{
  "nbformat": 4,
  "nbformat_minor": 0,
  "metadata": {
    "colab": {
      "provenance": [],
      "authorship_tag": "ABX9TyMyQCYY5j6TOuNBNaRqD9BT",
      "include_colab_link": true
    },
    "kernelspec": {
      "name": "python3",
      "display_name": "Python 3"
    },
    "language_info": {
      "name": "python"
    }
  },
  "cells": [
    {
      "cell_type": "markdown",
      "metadata": {
        "id": "view-in-github",
        "colab_type": "text"
      },
      "source": [
        "<a href=\"https://colab.research.google.com/github/guillevallejo/mc-2023-guillermo-vallejo/blob/main/Taller24_PolinomiosLagrange.py.ipynb\" target=\"_parent\"><img src=\"https://colab.research.google.com/assets/colab-badge.svg\" alt=\"Open In Colab\"/></a>"
      ]
    },
    {
      "cell_type": "code",
      "execution_count": 14,
      "metadata": {
        "colab": {
          "base_uri": "https://localhost:8080/"
        },
        "id": "iTNnc7kUfgKI",
        "outputId": "63b41ef5-c55f-42a2-ffbb-7fa2910a1325"
      },
      "outputs": [
        {
          "output_type": "stream",
          "name": "stdout",
          "text": [
            "Trazador Cúbico:\n",
            "f(3.25) = 3.28990\n"
          ]
        }
      ],
      "source": [
        "import numpy as np\n",
        "\n",
        "def lagrange_interpolation(x, y, xi):\n",
        "    n = len(x)\n",
        "    yi = 0\n",
        "    for i in range(n):\n",
        "        L = 1\n",
        "        for j in range(n):\n",
        "            if j != i:\n",
        "                L *= (xi - x[j]) / (x[i] - x[j])\n",
        "        yi += y[i] * L\n",
        "    return yi\n",
        "\n",
        "# Datos de los puntos\n",
        "x = np.array([0, 1, 2, 3, 4, 5, 6])\n",
        "y = np.array([3, 5, 6, 5, -2, 2, 13])\n",
        "\n",
        "# Punto para evaluar el polinomio de interpolación\n",
        "xi = 3.25\n",
        "\n",
        "# Cálculo del valor interpolado usando el polinomio de Lagrange\n",
        "yi = lagrange_interpolation(x, y, xi)\n",
        "\n",
        "print(\"Polinomio de Lagrange:\")\n",
        "print(\"f(3.25) = {:.5f}\".format(yi))\n"
      ]
    }
  ]
}