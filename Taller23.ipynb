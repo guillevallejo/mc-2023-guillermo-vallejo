{
  "nbformat": 4,
  "nbformat_minor": 0,
  "metadata": {
    "colab": {
      "provenance": [],
      "authorship_tag": "ABX9TyN4zR4FoO+e6/srAg1ZkemC",
      "include_colab_link": true
    },
    "kernelspec": {
      "name": "python3",
      "display_name": "Python 3"
    },
    "language_info": {
      "name": "python"
    }
  },
  "cells": [
    {
      "cell_type": "markdown",
      "metadata": {
        "id": "view-in-github",
        "colab_type": "text"
      },
      "source": [
        "<a href=\"https://colab.research.google.com/github/guillevallejo/mc-2023-guillermo-vallejo/blob/main/Taller23.ipynb\" target=\"_parent\"><img src=\"https://colab.research.google.com/assets/colab-badge.svg\" alt=\"Open In Colab\"/></a>"
      ]
    },
    {
      "cell_type": "code",
      "execution_count": 13,
      "metadata": {
        "colab": {
          "base_uri": "https://localhost:8080/"
        },
        "id": "iTNnc7kUfgKI",
        "outputId": "0bbfea62-d3eb-4621-e4bf-9a6ab45cdf82"
      },
      "outputs": [
        {
          "output_type": "stream",
          "name": "stdout",
          "text": [
            "Valor interpolado en xi = 2.50000: -1.96875\n"
          ]
        }
      ],
      "source": [
        "import numpy as np\n",
        "\n",
        "def lagrange_interpolation(x, y, xi):\n",
        "    n = len(x)\n",
        "    yi = 0\n",
        "    for i in range(n):\n",
        "        L = 1\n",
        "        for j in range(n):\n",
        "            if j != i:\n",
        "                L *= (xi - x[j]) / (x[i] - x[j])\n",
        "        yi += y[i] * L\n",
        "    return yi\n",
        "\n",
        "# Datos de los puntos\n",
        "x = np.array([0, 1, 2, 3, 4])\n",
        "y = np.array([1, 0.9, -1, -2.3, 1.8])\n",
        "\n",
        "# Punto para evaluar el polinomio de interpolación\n",
        "xi = 2.5\n",
        "\n",
        "# Cálculo del valor interpolado\n",
        "yi = lagrange_interpolation(x, y, xi)\n",
        "\n",
        "print(\"Valor interpolado en xi = {:.5f}: {:.5f}\".format(xi, yi))\n"
      ]
    }
  ]
}