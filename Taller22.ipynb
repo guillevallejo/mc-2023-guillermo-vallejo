{
  "nbformat": 4,
  "nbformat_minor": 0,
  "metadata": {
    "colab": {
      "provenance": [],
      "authorship_tag": "ABX9TyNo5eE3sJogIC7BJ/X8ZC7Y",
      "include_colab_link": true
    },
    "kernelspec": {
      "name": "python3",
      "display_name": "Python 3"
    },
    "language_info": {
      "name": "python"
    }
  },
  "cells": [
    {
      "cell_type": "markdown",
      "metadata": {
        "id": "view-in-github",
        "colab_type": "text"
      },
      "source": [
        "<a href=\"https://colab.research.google.com/github/guillevallejo/mc-2023-guillermo-vallejo/blob/main/Taller22.ipynb\" target=\"_parent\"><img src=\"https://colab.research.google.com/assets/colab-badge.svg\" alt=\"Open In Colab\"/></a>"
      ]
    },
    {
      "cell_type": "code",
      "execution_count": 12,
      "metadata": {
        "colab": {
          "base_uri": "https://localhost:8080/"
        },
        "id": "iTNnc7kUfgKI",
        "outputId": "fa6e2b38-2010-4c34-eb1c-f96d58749b09"
      },
      "outputs": [
        {
          "output_type": "stream",
          "name": "stdout",
          "text": [
            "Estimación de f(2.5) para grados:\n",
            "1: -1.00000\n",
            "2: 3.87500\n",
            "3: 3.18750\n",
            "\n",
            "Polinomio de grado 1:\n",
            "y = -0.80000x + -2.10000\n",
            "\n",
            "Polinomio de grado 2:\n",
            "y = 1.30000x^2 + -2.10000x + 1.00000\n"
          ]
        }
      ],
      "source": [
        "import numpy as np\n",
        "\n",
        "def lagrange_interpolation(x, y, xi):\n",
        "    n = len(x)\n",
        "    yi = 0\n",
        "    for i in range(n):\n",
        "        L = 1\n",
        "        for j in range(n):\n",
        "            if j != i:\n",
        "                L *= (xi - x[j]) / (x[i] - x[j])\n",
        "        yi += y[i] * L\n",
        "    return yi\n",
        "\n",
        "def polynomial_degree_1(x, y):\n",
        "    n = len(x)\n",
        "    A = np.vstack([x, np.ones(n)]).T\n",
        "    m, b = np.linalg.lstsq(A, y, rcond=None)[0]\n",
        "    return m, b\n",
        "\n",
        "def polynomial_degree_2(x, y):\n",
        "    n = len(x)\n",
        "    A = np.vstack([x**2, x, np.ones(n)]).T\n",
        "    a, b, c = np.linalg.lstsq(A, y, rcond=None)[0]\n",
        "    return a, b, c\n",
        "\n",
        "# Datos de los puntos base\n",
        "x = np.array([0, 1, 2, 3, 4])\n",
        "y = np.array([1, 0.2, 2, 4.2, 5])\n",
        "\n",
        "# Estimación de f(2.5) para grados 1, 2 y 3\n",
        "f_2_5_degree_1 = lagrange_interpolation(x[:2], y[:2], 2.5)\n",
        "f_2_5_degree_2 = lagrange_interpolation(x[:3], y[:3], 2.5)\n",
        "f_2_5_degree_3 = lagrange_interpolation(x[:4], y[:4], 2.5)\n",
        "\n",
        "# Polinomio de grado 1 asociado a los puntos seleccionados\n",
        "m, b = polynomial_degree_1(x[:2], y[:2])\n",
        "\n",
        "# Polinomio de grado 2 asociado a los puntos seleccionados\n",
        "a, b, c = polynomial_degree_2(x[:3], y[:3])\n",
        "\n",
        "print(\"Estimación de f(2.5) para grados:\")\n",
        "print(\"1: {:.5f}\".format(f_2_5_degree_1))\n",
        "print(\"2: {:.5f}\".format(f_2_5_degree_2))\n",
        "print(\"3: {:.5f}\".format(f_2_5_degree_3))\n",
        "\n",
        "print(\"\\nPolinomio de grado 1:\")\n",
        "print(\"y = {:.5f}x + {:.5f}\".format(m, b))\n",
        "\n",
        "print(\"\\nPolinomio de grado 2:\")\n",
        "print(\"y = {:.5f}x^2 + {:.5f}x + {:.5f}\".format(a, b, c))\n"
      ]
    }
  ]
}