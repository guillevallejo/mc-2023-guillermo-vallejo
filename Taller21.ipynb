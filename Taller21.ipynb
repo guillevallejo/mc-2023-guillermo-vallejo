{
  "nbformat": 4,
  "nbformat_minor": 0,
  "metadata": {
    "colab": {
      "provenance": [],
      "authorship_tag": "ABX9TyOJRPNUtQyFUDDrrhgE+sif",
      "include_colab_link": true
    },
    "kernelspec": {
      "name": "python3",
      "display_name": "Python 3"
    },
    "language_info": {
      "name": "python"
    }
  },
  "cells": [
    {
      "cell_type": "markdown",
      "metadata": {
        "id": "view-in-github",
        "colab_type": "text"
      },
      "source": [
        "<a href=\"https://colab.research.google.com/github/guillevallejo/mc-2023-guillermo-vallejo/blob/main/Taller21.ipynb\" target=\"_parent\"><img src=\"https://colab.research.google.com/assets/colab-badge.svg\" alt=\"Open In Colab\"/></a>"
      ]
    },
    {
      "cell_type": "code",
      "execution_count": 11,
      "metadata": {
        "colab": {
          "base_uri": "https://localhost:8080/"
        },
        "id": "iTNnc7kUfgKI",
        "outputId": "a7150e6e-597a-44fd-ee5a-26fb9d3f6559"
      },
      "outputs": [
        {
          "output_type": "stream",
          "name": "stdout",
          "text": [
            "Coeficiente de correlación (r): 0.97842\n"
          ]
        }
      ],
      "source": [
        "import numpy as np\n",
        "\n",
        "def linear_regression(x1, x2, y):\n",
        "    A = np.vstack([x1, x2, np.ones(len(x1))]).T\n",
        "    m1, m2, b = np.linalg.lstsq(A, y, rcond=None)[0]\n",
        "    return m1, m2, b\n",
        "\n",
        "def calculate_correlation_coefficient(y, y_pred):\n",
        "    correlation_matrix = np.corrcoef(y, y_pred)\n",
        "    correlation_coefficient = correlation_matrix[0, 1]\n",
        "    return correlation_coefficient\n",
        "\n",
        "x1 = np.array([1, 1, 2, 3, 1, 2, 3, 3])\n",
        "x2 = np.array([0, 1, 1, 2, 2, 3, 3, 1])\n",
        "y = np.array([3.2, 6, 2.2, 2.5, 6.5, 6.6, 3.5, 0.2])\n",
        "\n",
        "# Ajuste de la función lineal en dos dimensiones\n",
        "m1, m2, b = linear_regression(x1, x2, y)\n",
        "\n",
        "# Cálculo de los valores ajustados\n",
        "y_pred = m1 * x1 + m2 * x2 + b\n",
        "\n",
        "# Cálculo del coeficiente de correlación\n",
        "correlation_coefficient = calculate_correlation_coefficient(y, y_pred)\n",
        "\n",
        "print(\"Coeficiente de correlación (r): {:.5f}\".format(correlation_coefficient))\n"
      ]
    }
  ]
}