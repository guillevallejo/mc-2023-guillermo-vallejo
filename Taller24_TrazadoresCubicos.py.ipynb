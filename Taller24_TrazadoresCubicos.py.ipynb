{
  "nbformat": 4,
  "nbformat_minor": 0,
  "metadata": {
    "colab": {
      "provenance": [],
      "authorship_tag": "ABX9TyNZNil//cL0wumebLnhKko4",
      "include_colab_link": true
    },
    "kernelspec": {
      "name": "python3",
      "display_name": "Python 3"
    },
    "language_info": {
      "name": "python"
    }
  },
  "cells": [
    {
      "cell_type": "markdown",
      "metadata": {
        "id": "view-in-github",
        "colab_type": "text"
      },
      "source": [
        "<a href=\"https://colab.research.google.com/github/guillevallejo/mc-2023-guillermo-vallejo/blob/main/Taller24_TrazadoresCubicos.py.ipynb\" target=\"_parent\"><img src=\"https://colab.research.google.com/assets/colab-badge.svg\" alt=\"Open In Colab\"/></a>"
      ]
    },
    {
      "cell_type": "code",
      "execution_count": 14,
      "metadata": {
        "colab": {
          "base_uri": "https://localhost:8080/"
        },
        "id": "iTNnc7kUfgKI",
        "outputId": "63b41ef5-c55f-42a2-ffbb-7fa2910a1325"
      },
      "outputs": [
        {
          "output_type": "stream",
          "name": "stdout",
          "text": [
            "Trazador Cúbico:\n",
            "f(3.25) = 3.28990\n"
          ]
        }
      ],
      "source": [
        "from scipy.interpolate import CubicSpline\n",
        "\n",
        "# Datos de los puntos\n",
        "x = np.array([0, 1, 2, 3, 4, 5, 6])\n",
        "y = np.array([3, 5, 6, 5, -2, 2, 13])\n",
        "\n",
        "# Creación del trazador cúbico\n",
        "cs = CubicSpline(x, y)\n",
        "\n",
        "# Punto para evaluar el trazador cúbico\n",
        "xi = 3.25\n",
        "\n",
        "# Cálculo del valor interpolado usando el trazador cúbico\n",
        "yi = cs(xi)\n",
        "\n",
        "print(\"Trazador Cúbico:\")\n",
        "print(\"f(3.25) = {:.5f}\".format(yi))\n",
        "\n"
      ]
    }
  ]
}